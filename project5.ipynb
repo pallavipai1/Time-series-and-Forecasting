{
 "cells": [
  {
   "cell_type": "markdown",
   "metadata": {},
   "source": [
    "World Wide Products Inc.\n",
    "\n",
    "Overview: Data set used for Analysis https://www.kaggle.com/felixzhao/productdemandforecasting"
   ]
  },
  {
   "cell_type": "code",
   "execution_count": 844,
   "metadata": {},
   "outputs": [],
   "source": [
    "#Import Libraries\n",
    "import numpy as np\n",
    "import pandas as pd\n",
    "import datetime\n",
    "import matplotlib.pyplot as plt"
   ]
  },
  {
   "cell_type": "markdown",
   "metadata": {},
   "source": [
    "Loaded the dataframe into Pandas. Coverted the data type for 'Date' coloumn from string to Date and set it as an index"
   ]
  },
  {
   "cell_type": "code",
   "execution_count": 845,
   "metadata": {},
   "outputs": [
    {
     "data": {
      "text/html": [
       "<div>\n",
       "<style scoped>\n",
       "    .dataframe tbody tr th:only-of-type {\n",
       "        vertical-align: middle;\n",
       "    }\n",
       "\n",
       "    .dataframe tbody tr th {\n",
       "        vertical-align: top;\n",
       "    }\n",
       "\n",
       "    .dataframe thead th {\n",
       "        text-align: right;\n",
       "    }\n",
       "</style>\n",
       "<table border=\"1\" class=\"dataframe\">\n",
       "  <thead>\n",
       "    <tr style=\"text-align: right;\">\n",
       "      <th></th>\n",
       "      <th>Product_Code</th>\n",
       "      <th>Warehouse</th>\n",
       "      <th>Product_Category</th>\n",
       "      <th>Order_Demand</th>\n",
       "    </tr>\n",
       "    <tr>\n",
       "      <th>Date</th>\n",
       "      <th></th>\n",
       "      <th></th>\n",
       "      <th></th>\n",
       "      <th></th>\n",
       "    </tr>\n",
       "  </thead>\n",
       "  <tbody>\n",
       "    <tr>\n",
       "      <th>2012-07-27</th>\n",
       "      <td>Product_0993</td>\n",
       "      <td>Whse_J</td>\n",
       "      <td>Category_028</td>\n",
       "      <td>100</td>\n",
       "    </tr>\n",
       "    <tr>\n",
       "      <th>2012-01-19</th>\n",
       "      <td>Product_0979</td>\n",
       "      <td>Whse_J</td>\n",
       "      <td>Category_028</td>\n",
       "      <td>500</td>\n",
       "    </tr>\n",
       "    <tr>\n",
       "      <th>2012-02-03</th>\n",
       "      <td>Product_0979</td>\n",
       "      <td>Whse_J</td>\n",
       "      <td>Category_028</td>\n",
       "      <td>500</td>\n",
       "    </tr>\n",
       "    <tr>\n",
       "      <th>2012-02-09</th>\n",
       "      <td>Product_0979</td>\n",
       "      <td>Whse_J</td>\n",
       "      <td>Category_028</td>\n",
       "      <td>500</td>\n",
       "    </tr>\n",
       "    <tr>\n",
       "      <th>2012-03-02</th>\n",
       "      <td>Product_0979</td>\n",
       "      <td>Whse_J</td>\n",
       "      <td>Category_028</td>\n",
       "      <td>500</td>\n",
       "    </tr>\n",
       "  </tbody>\n",
       "</table>\n",
       "</div>"
      ],
      "text/plain": [
       "            Product_Code Warehouse Product_Category  Order_Demand\n",
       "Date                                                             \n",
       "2012-07-27  Product_0993    Whse_J     Category_028           100\n",
       "2012-01-19  Product_0979    Whse_J     Category_028           500\n",
       "2012-02-03  Product_0979    Whse_J     Category_028           500\n",
       "2012-02-09  Product_0979    Whse_J     Category_028           500\n",
       "2012-03-02  Product_0979    Whse_J     Category_028           500"
      ]
     },
     "execution_count": 845,
     "metadata": {},
     "output_type": "execute_result"
    }
   ],
   "source": [
    "#Load the dataframe\n",
    "data = pd.read_csv ('Historical Product Demand.csv',parse_dates=[\"Date\"], index_col=\"Date\")\n",
    "data.head()"
   ]
  },
  {
   "cell_type": "code",
   "execution_count": 846,
   "metadata": {},
   "outputs": [
    {
     "data": {
      "text/html": [
       "<div>\n",
       "<style scoped>\n",
       "    .dataframe tbody tr th:only-of-type {\n",
       "        vertical-align: middle;\n",
       "    }\n",
       "\n",
       "    .dataframe tbody tr th {\n",
       "        vertical-align: top;\n",
       "    }\n",
       "\n",
       "    .dataframe thead th {\n",
       "        text-align: right;\n",
       "    }\n",
       "</style>\n",
       "<table border=\"1\" class=\"dataframe\">\n",
       "  <thead>\n",
       "    <tr style=\"text-align: right;\">\n",
       "      <th></th>\n",
       "      <th>Order_Demand</th>\n",
       "    </tr>\n",
       "  </thead>\n",
       "  <tbody>\n",
       "    <tr>\n",
       "      <th>count</th>\n",
       "      <td>1.038106e+06</td>\n",
       "    </tr>\n",
       "    <tr>\n",
       "      <th>mean</th>\n",
       "      <td>4.936488e+03</td>\n",
       "    </tr>\n",
       "    <tr>\n",
       "      <th>std</th>\n",
       "      <td>2.902462e+04</td>\n",
       "    </tr>\n",
       "    <tr>\n",
       "      <th>min</th>\n",
       "      <td>0.000000e+00</td>\n",
       "    </tr>\n",
       "    <tr>\n",
       "      <th>25%</th>\n",
       "      <td>2.000000e+01</td>\n",
       "    </tr>\n",
       "    <tr>\n",
       "      <th>50%</th>\n",
       "      <td>3.000000e+02</td>\n",
       "    </tr>\n",
       "    <tr>\n",
       "      <th>75%</th>\n",
       "      <td>2.000000e+03</td>\n",
       "    </tr>\n",
       "    <tr>\n",
       "      <th>max</th>\n",
       "      <td>4.000000e+06</td>\n",
       "    </tr>\n",
       "  </tbody>\n",
       "</table>\n",
       "</div>"
      ],
      "text/plain": [
       "       Order_Demand\n",
       "count  1.038106e+06\n",
       "mean   4.936488e+03\n",
       "std    2.902462e+04\n",
       "min    0.000000e+00\n",
       "25%    2.000000e+01\n",
       "50%    3.000000e+02\n",
       "75%    2.000000e+03\n",
       "max    4.000000e+06"
      ]
     },
     "execution_count": 846,
     "metadata": {},
     "output_type": "execute_result"
    }
   ],
   "source": [
    "#Describe dataframe\n",
    "data.describe()"
   ]
  },
  {
   "cell_type": "code",
   "execution_count": 847,
   "metadata": {},
   "outputs": [
    {
     "data": {
      "text/plain": [
       "Product_Code        object\n",
       "Warehouse           object\n",
       "Product_Category    object\n",
       "Order_Demand         int64\n",
       "dtype: object"
      ]
     },
     "execution_count": 847,
     "metadata": {},
     "output_type": "execute_result"
    }
   ],
   "source": [
    "#Describe the datatype of columns in the dataframe\n",
    "data.dtypes"
   ]
  },
  {
   "cell_type": "markdown",
   "metadata": {},
   "source": [
    "Data Cleaning: Removed all the Null values from the data set to clean the dataframe"
   ]
  },
  {
   "cell_type": "code",
   "execution_count": 848,
   "metadata": {},
   "outputs": [
    {
     "data": {
      "text/html": [
       "<div>\n",
       "<style scoped>\n",
       "    .dataframe tbody tr th:only-of-type {\n",
       "        vertical-align: middle;\n",
       "    }\n",
       "\n",
       "    .dataframe tbody tr th {\n",
       "        vertical-align: top;\n",
       "    }\n",
       "\n",
       "    .dataframe thead th {\n",
       "        text-align: right;\n",
       "    }\n",
       "</style>\n",
       "<table border=\"1\" class=\"dataframe\">\n",
       "  <thead>\n",
       "    <tr style=\"text-align: right;\">\n",
       "      <th></th>\n",
       "      <th>Product_Code</th>\n",
       "      <th>Warehouse</th>\n",
       "      <th>Product_Category</th>\n",
       "      <th>Order_Demand</th>\n",
       "    </tr>\n",
       "    <tr>\n",
       "      <th>Date</th>\n",
       "      <th></th>\n",
       "      <th></th>\n",
       "      <th></th>\n",
       "      <th></th>\n",
       "    </tr>\n",
       "  </thead>\n",
       "  <tbody>\n",
       "    <tr>\n",
       "      <th>2012-07-27</th>\n",
       "      <td>Product_0993</td>\n",
       "      <td>Whse_J</td>\n",
       "      <td>Category_028</td>\n",
       "      <td>100</td>\n",
       "    </tr>\n",
       "    <tr>\n",
       "      <th>2012-01-19</th>\n",
       "      <td>Product_0979</td>\n",
       "      <td>Whse_J</td>\n",
       "      <td>Category_028</td>\n",
       "      <td>500</td>\n",
       "    </tr>\n",
       "    <tr>\n",
       "      <th>2012-02-03</th>\n",
       "      <td>Product_0979</td>\n",
       "      <td>Whse_J</td>\n",
       "      <td>Category_028</td>\n",
       "      <td>500</td>\n",
       "    </tr>\n",
       "    <tr>\n",
       "      <th>2012-02-09</th>\n",
       "      <td>Product_0979</td>\n",
       "      <td>Whse_J</td>\n",
       "      <td>Category_028</td>\n",
       "      <td>500</td>\n",
       "    </tr>\n",
       "    <tr>\n",
       "      <th>2012-03-02</th>\n",
       "      <td>Product_0979</td>\n",
       "      <td>Whse_J</td>\n",
       "      <td>Category_028</td>\n",
       "      <td>500</td>\n",
       "    </tr>\n",
       "  </tbody>\n",
       "</table>\n",
       "</div>"
      ],
      "text/plain": [
       "            Product_Code Warehouse Product_Category  Order_Demand\n",
       "Date                                                             \n",
       "2012-07-27  Product_0993    Whse_J     Category_028           100\n",
       "2012-01-19  Product_0979    Whse_J     Category_028           500\n",
       "2012-02-03  Product_0979    Whse_J     Category_028           500\n",
       "2012-02-09  Product_0979    Whse_J     Category_028           500\n",
       "2012-03-02  Product_0979    Whse_J     Category_028           500"
      ]
     },
     "execution_count": 848,
     "metadata": {},
     "output_type": "execute_result"
    }
   ],
   "source": [
    "#Drop rows will null dates in the dataframe\n",
    "data=data.dropna()\n",
    "data.head()"
   ]
  },
  {
   "cell_type": "markdown",
   "metadata": {},
   "source": [
    "Data Analysis: Noted that that there were 427 unique items in Warehouse A, 244 unique items in Warehouse C, 1625 itemns in Warehouse J and 553 unique items in Warehouse S. Created new data farmes by selecting products 'Product_0082' and 'Product_0002' and observed the order demands over the months and years."
   ]
  },
  {
   "cell_type": "code",
   "execution_count": 849,
   "metadata": {},
   "outputs": [
    {
     "data": {
      "text/plain": [
       "Warehouse\n",
       "Whse_A     427\n",
       "Whse_C     244\n",
       "Whse_J    1625\n",
       "Whse_S     553\n",
       "Name: Product_Code, dtype: int64"
      ]
     },
     "execution_count": 849,
     "metadata": {},
     "output_type": "execute_result"
    }
   ],
   "source": [
    "#Number of unique products in each warehouse\n",
    "product_count=data.groupby(['Warehouse'])['Product_Code'].nunique()\n",
    "product_count.columns=['Warehouse','Products']\n",
    "product_count"
   ]
  },
  {
   "cell_type": "code",
   "execution_count": 850,
   "metadata": {},
   "outputs": [
    {
     "data": {
      "text/html": [
       "<div>\n",
       "<style scoped>\n",
       "    .dataframe tbody tr th:only-of-type {\n",
       "        vertical-align: middle;\n",
       "    }\n",
       "\n",
       "    .dataframe tbody tr th {\n",
       "        vertical-align: top;\n",
       "    }\n",
       "\n",
       "    .dataframe thead th {\n",
       "        text-align: right;\n",
       "    }\n",
       "</style>\n",
       "<table border=\"1\" class=\"dataframe\">\n",
       "  <thead>\n",
       "    <tr style=\"text-align: right;\">\n",
       "      <th></th>\n",
       "      <th>Product_Code</th>\n",
       "      <th>Warehouse</th>\n",
       "      <th>Product_Category</th>\n",
       "      <th>Order_Demand</th>\n",
       "    </tr>\n",
       "    <tr>\n",
       "      <th>Date</th>\n",
       "      <th></th>\n",
       "      <th></th>\n",
       "      <th></th>\n",
       "      <th></th>\n",
       "    </tr>\n",
       "  </thead>\n",
       "  <tbody>\n",
       "    <tr>\n",
       "      <th>2012-04-01</th>\n",
       "      <td>Product_0082</td>\n",
       "      <td>Whse_J</td>\n",
       "      <td>Category_019</td>\n",
       "      <td>2000</td>\n",
       "    </tr>\n",
       "    <tr>\n",
       "      <th>2012-08-01</th>\n",
       "      <td>Product_0082</td>\n",
       "      <td>Whse_J</td>\n",
       "      <td>Category_019</td>\n",
       "      <td>1000</td>\n",
       "    </tr>\n",
       "    <tr>\n",
       "      <th>2012-07-10</th>\n",
       "      <td>Product_0082</td>\n",
       "      <td>Whse_J</td>\n",
       "      <td>Category_019</td>\n",
       "      <td>1000</td>\n",
       "    </tr>\n",
       "    <tr>\n",
       "      <th>2012-09-14</th>\n",
       "      <td>Product_0082</td>\n",
       "      <td>Whse_J</td>\n",
       "      <td>Category_019</td>\n",
       "      <td>1000</td>\n",
       "    </tr>\n",
       "    <tr>\n",
       "      <th>2012-11-06</th>\n",
       "      <td>Product_0082</td>\n",
       "      <td>Whse_J</td>\n",
       "      <td>Category_019</td>\n",
       "      <td>2000</td>\n",
       "    </tr>\n",
       "  </tbody>\n",
       "</table>\n",
       "</div>"
      ],
      "text/plain": [
       "            Product_Code Warehouse Product_Category  Order_Demand\n",
       "Date                                                             \n",
       "2012-04-01  Product_0082    Whse_J     Category_019          2000\n",
       "2012-08-01  Product_0082    Whse_J     Category_019          1000\n",
       "2012-07-10  Product_0082    Whse_J     Category_019          1000\n",
       "2012-09-14  Product_0082    Whse_J     Category_019          1000\n",
       "2012-11-06  Product_0082    Whse_J     Category_019          2000"
      ]
     },
     "execution_count": 850,
     "metadata": {},
     "output_type": "execute_result"
    }
   ],
   "source": [
    "#create a subset of dataframe for product_1\n",
    "option=['Product_0082']\n",
    "prod1= data[data['Product_Code'].isin(option)]\n",
    "prod1.head()"
   ]
  },
  {
   "cell_type": "code",
   "execution_count": 851,
   "metadata": {},
   "outputs": [
    {
     "data": {
      "text/plain": [
       "DatetimeIndex(['2012-04-01', '2012-08-01', '2012-07-10', '2012-09-14',\n",
       "               '2012-11-06', '2012-02-01', '2012-01-13', '2012-03-16',\n",
       "               '2012-03-27', '2012-05-07',\n",
       "               ...\n",
       "               '2016-04-18', '2016-04-29', '2016-06-30', '2016-09-30',\n",
       "               '2016-11-29', '2016-02-18', '2016-03-07', '2016-10-27',\n",
       "               '2016-09-09', '2016-11-30'],\n",
       "              dtype='datetime64[ns]', name='Date', length=578, freq=None)"
      ]
     },
     "execution_count": 851,
     "metadata": {},
     "output_type": "execute_result"
    }
   ],
   "source": [
    "#Verify the index for prod1\n",
    "prod1.index"
   ]
  },
  {
   "cell_type": "code",
   "execution_count": 852,
   "metadata": {},
   "outputs": [
    {
     "data": {
      "text/html": [
       "<div>\n",
       "<style scoped>\n",
       "    .dataframe tbody tr th:only-of-type {\n",
       "        vertical-align: middle;\n",
       "    }\n",
       "\n",
       "    .dataframe tbody tr th {\n",
       "        vertical-align: top;\n",
       "    }\n",
       "\n",
       "    .dataframe thead th {\n",
       "        text-align: right;\n",
       "    }\n",
       "</style>\n",
       "<table border=\"1\" class=\"dataframe\">\n",
       "  <thead>\n",
       "    <tr style=\"text-align: right;\">\n",
       "      <th></th>\n",
       "      <th>Product_Code</th>\n",
       "      <th>Warehouse</th>\n",
       "      <th>Product_Category</th>\n",
       "      <th>Order_Demand</th>\n",
       "    </tr>\n",
       "    <tr>\n",
       "      <th>Date</th>\n",
       "      <th></th>\n",
       "      <th></th>\n",
       "      <th></th>\n",
       "      <th></th>\n",
       "    </tr>\n",
       "  </thead>\n",
       "  <tbody>\n",
       "    <tr>\n",
       "      <th>2016-01-14</th>\n",
       "      <td>Product_0082</td>\n",
       "      <td>Whse_S</td>\n",
       "      <td>Category_019</td>\n",
       "      <td>20000</td>\n",
       "    </tr>\n",
       "    <tr>\n",
       "      <th>2016-01-12</th>\n",
       "      <td>Product_0082</td>\n",
       "      <td>Whse_J</td>\n",
       "      <td>Category_019</td>\n",
       "      <td>50000</td>\n",
       "    </tr>\n",
       "    <tr>\n",
       "      <th>2016-01-28</th>\n",
       "      <td>Product_0082</td>\n",
       "      <td>Whse_J</td>\n",
       "      <td>Category_019</td>\n",
       "      <td>20000</td>\n",
       "    </tr>\n",
       "    <tr>\n",
       "      <th>2016-01-12</th>\n",
       "      <td>Product_0082</td>\n",
       "      <td>Whse_J</td>\n",
       "      <td>Category_019</td>\n",
       "      <td>30000</td>\n",
       "    </tr>\n",
       "    <tr>\n",
       "      <th>2016-01-15</th>\n",
       "      <td>Product_0082</td>\n",
       "      <td>Whse_J</td>\n",
       "      <td>Category_019</td>\n",
       "      <td>40000</td>\n",
       "    </tr>\n",
       "    <tr>\n",
       "      <th>2016-01-22</th>\n",
       "      <td>Product_0082</td>\n",
       "      <td>Whse_J</td>\n",
       "      <td>Category_019</td>\n",
       "      <td>10000</td>\n",
       "    </tr>\n",
       "  </tbody>\n",
       "</table>\n",
       "</div>"
      ],
      "text/plain": [
       "            Product_Code Warehouse Product_Category  Order_Demand\n",
       "Date                                                             \n",
       "2016-01-14  Product_0082    Whse_S     Category_019         20000\n",
       "2016-01-12  Product_0082    Whse_J     Category_019         50000\n",
       "2016-01-28  Product_0082    Whse_J     Category_019         20000\n",
       "2016-01-12  Product_0082    Whse_J     Category_019         30000\n",
       "2016-01-15  Product_0082    Whse_J     Category_019         40000\n",
       "2016-01-22  Product_0082    Whse_J     Category_019         10000"
      ]
     },
     "execution_count": 852,
     "metadata": {},
     "output_type": "execute_result"
    }
   ],
   "source": [
    "#Retrieve prod1 orders for Jan 2016\n",
    "prod1[\"2016-01\"]"
   ]
  },
  {
   "cell_type": "code",
   "execution_count": 853,
   "metadata": {},
   "outputs": [
    {
     "data": {
      "text/html": [
       "<div>\n",
       "<style scoped>\n",
       "    .dataframe tbody tr th:only-of-type {\n",
       "        vertical-align: middle;\n",
       "    }\n",
       "\n",
       "    .dataframe tbody tr th {\n",
       "        vertical-align: top;\n",
       "    }\n",
       "\n",
       "    .dataframe thead th {\n",
       "        text-align: right;\n",
       "    }\n",
       "</style>\n",
       "<table border=\"1\" class=\"dataframe\">\n",
       "  <thead>\n",
       "    <tr style=\"text-align: right;\">\n",
       "      <th></th>\n",
       "      <th>Order_Demand</th>\n",
       "    </tr>\n",
       "    <tr>\n",
       "      <th>Date</th>\n",
       "      <th></th>\n",
       "    </tr>\n",
       "  </thead>\n",
       "  <tbody>\n",
       "    <tr>\n",
       "      <th>2011-12-31</th>\n",
       "      <td>18000.000000</td>\n",
       "    </tr>\n",
       "    <tr>\n",
       "      <th>2012-01-31</th>\n",
       "      <td>16937.500000</td>\n",
       "    </tr>\n",
       "    <tr>\n",
       "      <th>2012-02-29</th>\n",
       "      <td>17600.000000</td>\n",
       "    </tr>\n",
       "    <tr>\n",
       "      <th>2012-03-31</th>\n",
       "      <td>16909.090909</td>\n",
       "    </tr>\n",
       "    <tr>\n",
       "      <th>2012-04-30</th>\n",
       "      <td>19600.000000</td>\n",
       "    </tr>\n",
       "  </tbody>\n",
       "</table>\n",
       "</div>"
      ],
      "text/plain": [
       "            Order_Demand\n",
       "Date                    \n",
       "2011-12-31  18000.000000\n",
       "2012-01-31  16937.500000\n",
       "2012-02-29  17600.000000\n",
       "2012-03-31  16909.090909\n",
       "2012-04-30  19600.000000"
      ]
     },
     "execution_count": 853,
     "metadata": {},
     "output_type": "execute_result"
    }
   ],
   "source": [
    "#Monthly average orders for product 1\n",
    "prod1.resample('M').mean().head()\n"
   ]
  },
  {
   "cell_type": "markdown",
   "metadata": {},
   "source": [
    "Calculated a monthly mean of the product demand with product id '82' and plotted a graph of the order demand. Noted that the order demand has increased over the months."
   ]
  },
  {
   "cell_type": "code",
   "execution_count": 854,
   "metadata": {},
   "outputs": [
    {
     "data": {
      "text/plain": [
       "<matplotlib.axes._subplots.AxesSubplot at 0x1a593f2a550>"
      ]
     },
     "execution_count": 854,
     "metadata": {},
     "output_type": "execute_result"
    },
    {
     "data": {
      "image/png": "[encoded data removed]",
      "text/plain": [
       "<Figure size 432x288 with 1 Axes>"
      ]
     },
     "metadata": {
      "needs_background": "light"
     },
     "output_type": "display_data"
    }
   ],
   "source": [
    "%matplotlib inline\n",
    "prod1.resample('M').mean().plot()"
   ]
  },
  {
   "cell_type": "code",
   "execution_count": 855,
   "metadata": {},
   "outputs": [
    {
     "data": {
      "text/html": [
       "<div>\n",
       "<style scoped>\n",
       "    .dataframe tbody tr th:only-of-type {\n",
       "        vertical-align: middle;\n",
       "    }\n",
       "\n",
       "    .dataframe tbody tr th {\n",
       "        vertical-align: top;\n",
       "    }\n",
       "\n",
       "    .dataframe thead th {\n",
       "        text-align: right;\n",
       "    }\n",
       "</style>\n",
       "<table border=\"1\" class=\"dataframe\">\n",
       "  <thead>\n",
       "    <tr style=\"text-align: right;\">\n",
       "      <th></th>\n",
       "      <th>Order_Demand</th>\n",
       "    </tr>\n",
       "    <tr>\n",
       "      <th>Date</th>\n",
       "      <th></th>\n",
       "    </tr>\n",
       "  </thead>\n",
       "  <tbody>\n",
       "    <tr>\n",
       "      <th>2011-12-31</th>\n",
       "      <td>18000.000000</td>\n",
       "    </tr>\n",
       "    <tr>\n",
       "      <th>2012-12-31</th>\n",
       "      <td>17046.357616</td>\n",
       "    </tr>\n",
       "    <tr>\n",
       "      <th>2013-12-31</th>\n",
       "      <td>15482.758621</td>\n",
       "    </tr>\n",
       "    <tr>\n",
       "      <th>2014-12-31</th>\n",
       "      <td>15758.064516</td>\n",
       "    </tr>\n",
       "    <tr>\n",
       "      <th>2015-12-31</th>\n",
       "      <td>20410.526316</td>\n",
       "    </tr>\n",
       "    <tr>\n",
       "      <th>2016-12-31</th>\n",
       "      <td>23175.824176</td>\n",
       "    </tr>\n",
       "  </tbody>\n",
       "</table>\n",
       "</div>"
      ],
      "text/plain": [
       "            Order_Demand\n",
       "Date                    \n",
       "2011-12-31  18000.000000\n",
       "2012-12-31  17046.357616\n",
       "2013-12-31  15482.758621\n",
       "2014-12-31  15758.064516\n",
       "2015-12-31  20410.526316\n",
       "2016-12-31  23175.824176"
      ]
     },
     "execution_count": 855,
     "metadata": {},
     "output_type": "execute_result"
    }
   ],
   "source": [
    "#Yearly average for product 1\n",
    "prod1.resample('Y').mean()"
   ]
  },
  {
   "cell_type": "markdown",
   "metadata": {},
   "source": [
    "Graph showing increase in order demand for product_0082 over the years"
   ]
  },
  {
   "cell_type": "code",
   "execution_count": 856,
   "metadata": {},
   "outputs": [
    {
     "data": {
      "text/plain": [
       "<matplotlib.axes._subplots.AxesSubplot at 0x1a5940bc070>"
      ]
     },
     "execution_count": 856,
     "metadata": {},
     "output_type": "execute_result"
    },
    {
     "data": {
      "image/png": "[encoded data removed]",
      "text/plain": [
       "<Figure size 432x288 with 1 Axes>"
      ]
     },
     "metadata": {
      "needs_background": "light"
     },
     "output_type": "display_data"
    }
   ],
   "source": [
    "%matplotlib inline\n",
    "prod1.resample('Y').mean().plot() "
   ]
  },
  {
   "cell_type": "code",
   "execution_count": 857,
   "metadata": {},
   "outputs": [
    {
     "data": {
      "text/plain": [
       "Date\n",
       "2011-12-31    AxesSubplot(0.125,0.2;0.775x0.68)\n",
       "2012-12-31    AxesSubplot(0.125,0.2;0.775x0.68)\n",
       "2013-12-31    AxesSubplot(0.125,0.2;0.775x0.68)\n",
       "2014-12-31    AxesSubplot(0.125,0.2;0.775x0.68)\n",
       "2015-12-31    AxesSubplot(0.125,0.2;0.775x0.68)\n",
       "2016-12-31    AxesSubplot(0.125,0.2;0.775x0.68)\n",
       "Freq: A-DEC, Name: Order_Demand, dtype: object"
      ]
     },
     "execution_count": 857,
     "metadata": {},
     "output_type": "execute_result"
    },
    {
     "data": {
      "image/png": "[encoded data removed]",
      "text/plain": [
       "<Figure size 432x288 with 1 Axes>"
      ]
     },
     "metadata": {
      "needs_background": "light"
     },
     "output_type": "display_data"
    }
   ],
   "source": [
    "#Total order demands for product 1 for each year\n",
    "%matplotlib inline\n",
    "prod1.Order_Demand.resample('Y').plot() "
   ]
  },
  {
   "cell_type": "code",
   "execution_count": 858,
   "metadata": {},
   "outputs": [
    {
     "data": {
      "text/html": [
       "<div>\n",
       "<style scoped>\n",
       "    .dataframe tbody tr th:only-of-type {\n",
       "        vertical-align: middle;\n",
       "    }\n",
       "\n",
       "    .dataframe tbody tr th {\n",
       "        vertical-align: top;\n",
       "    }\n",
       "\n",
       "    .dataframe thead th {\n",
       "        text-align: right;\n",
       "    }\n",
       "</style>\n",
       "<table border=\"1\" class=\"dataframe\">\n",
       "  <thead>\n",
       "    <tr style=\"text-align: right;\">\n",
       "      <th></th>\n",
       "      <th>Product_Code</th>\n",
       "      <th>Warehouse</th>\n",
       "      <th>Product_Category</th>\n",
       "      <th>Order_Demand</th>\n",
       "    </tr>\n",
       "    <tr>\n",
       "      <th>Date</th>\n",
       "      <th></th>\n",
       "      <th></th>\n",
       "      <th></th>\n",
       "      <th></th>\n",
       "    </tr>\n",
       "  </thead>\n",
       "  <tbody>\n",
       "    <tr>\n",
       "      <th>2012-03-01</th>\n",
       "      <td>Product_0002</td>\n",
       "      <td>Whse_S</td>\n",
       "      <td>Category_005</td>\n",
       "      <td>50000</td>\n",
       "    </tr>\n",
       "    <tr>\n",
       "      <th>2012-05-02</th>\n",
       "      <td>Product_0002</td>\n",
       "      <td>Whse_S</td>\n",
       "      <td>Category_005</td>\n",
       "      <td>50000</td>\n",
       "    </tr>\n",
       "    <tr>\n",
       "      <th>2012-07-03</th>\n",
       "      <td>Product_0002</td>\n",
       "      <td>Whse_S</td>\n",
       "      <td>Category_005</td>\n",
       "      <td>30000</td>\n",
       "    </tr>\n",
       "    <tr>\n",
       "      <th>2012-09-05</th>\n",
       "      <td>Product_0002</td>\n",
       "      <td>Whse_S</td>\n",
       "      <td>Category_005</td>\n",
       "      <td>10000</td>\n",
       "    </tr>\n",
       "    <tr>\n",
       "      <th>2012-11-08</th>\n",
       "      <td>Product_0002</td>\n",
       "      <td>Whse_S</td>\n",
       "      <td>Category_005</td>\n",
       "      <td>30000</td>\n",
       "    </tr>\n",
       "  </tbody>\n",
       "</table>\n",
       "</div>"
      ],
      "text/plain": [
       "            Product_Code Warehouse Product_Category  Order_Demand\n",
       "Date                                                             \n",
       "2012-03-01  Product_0002    Whse_S     Category_005         50000\n",
       "2012-05-02  Product_0002    Whse_S     Category_005         50000\n",
       "2012-07-03  Product_0002    Whse_S     Category_005         30000\n",
       "2012-09-05  Product_0002    Whse_S     Category_005         10000\n",
       "2012-11-08  Product_0002    Whse_S     Category_005         30000"
      ]
     },
     "execution_count": 858,
     "metadata": {},
     "output_type": "execute_result"
    }
   ],
   "source": [
    "#create a subset of dataframe for product_2\n",
    "option=['Product_0002']\n",
    "prod2= data[data['Product_Code'].isin(option)]\n",
    "prod2.head()"
   ]
  },
  {
   "cell_type": "markdown",
   "metadata": {},
   "source": [
    "Monthly average graph for product_0002 denotes that the demand for product 2 was highest towards the latter half of 2015 and early 2016."
   ]
  },
  {
   "cell_type": "code",
   "execution_count": 859,
   "metadata": {},
   "outputs": [
    {
     "data": {
      "text/plain": [
       "<matplotlib.axes._subplots.AxesSubplot at 0x1a59638cfa0>"
      ]
     },
     "execution_count": 859,
     "metadata": {},
     "output_type": "execute_result"
    },
    {
     "data": {
      "image/png": "[encoded data removed]",
      "text/plain": [
       "<Figure size 432x288 with 1 Axes>"
      ]
     },
     "metadata": {
      "needs_background": "light"
     },
     "output_type": "display_data"
    }
   ],
   "source": [
    "#Plot mean of monthly demand for data\n",
    "%matplotlib inline\n",
    "prod2.resample('M').mean().plot()"
   ]
  },
  {
   "cell_type": "markdown",
   "metadata": {},
   "source": [
    "Yearly demand of graph of for product 2 denotes that there is a steep increase in demand from 2014 to 2015 and a steep decreases from 2015 towards the beginning of 2016"
   ]
  },
  {
   "cell_type": "code",
   "execution_count": 860,
   "metadata": {},
   "outputs": [
    {
     "data": {
      "text/plain": [
       "<matplotlib.axes._subplots.AxesSubplot at 0x1a5964005b0>"
      ]
     },
     "execution_count": 860,
     "metadata": {},
     "output_type": "execute_result"
    },
    {
     "data": {
      "image/png": "[encoded data removed]",
      "text/plain": [
       "<Figure size 432x288 with 1 Axes>"
      ]
     },
     "metadata": {
      "needs_background": "light"
     },
     "output_type": "display_data"
    }
   ],
   "source": [
    "#Plot mean of Yearly demand for data\n",
    "%matplotlib inline\n",
    "prod2.resample('Y').mean().plot()"
   ]
  },
  {
   "cell_type": "code",
   "execution_count": 861,
   "metadata": {},
   "outputs": [
    {
     "data": {
      "text/plain": [
       "Date\n",
       "2011-12-31    AxesSubplot(0.125,0.2;0.775x0.68)\n",
       "2012-12-31    AxesSubplot(0.125,0.2;0.775x0.68)\n",
       "2013-12-31    AxesSubplot(0.125,0.2;0.775x0.68)\n",
       "2014-12-31    AxesSubplot(0.125,0.2;0.775x0.68)\n",
       "2015-12-31    AxesSubplot(0.125,0.2;0.775x0.68)\n",
       "2016-12-31    AxesSubplot(0.125,0.2;0.775x0.68)\n",
       "Freq: A-DEC, Name: Order_Demand, dtype: object"
      ]
     },
     "execution_count": 861,
     "metadata": {},
     "output_type": "execute_result"
    },
    {
     "data": {
      "image/png": "[encoded data removed]",
      "text/plain": [
       "<Figure size 432x288 with 1 Axes>"
      ]
     },
     "metadata": {
      "needs_background": "light"
     },
     "output_type": "display_data"
    }
   ],
   "source": [
    "%matplotlib inline\n",
    "prod2.Order_Demand.resample('Y').plot() "
   ]
  },
  {
   "cell_type": "code",
   "execution_count": 862,
   "metadata": {},
   "outputs": [
    {
     "name": "stdout",
     "output_type": "stream",
     "text": [
      "Shape of data (578, 4)\n"
     ]
    }
   ],
   "source": [
    "#Print shape of data\n",
    "print ('Shape of data',prod1.shape)\n"
   ]
  },
  {
   "cell_type": "markdown",
   "metadata": {},
   "source": [
    "Check for stationary. Noted that the data is stationary."
   ]
  },
  {
   "cell_type": "code",
   "execution_count": 863,
   "metadata": {},
   "outputs": [],
   "source": [
    "\n",
    "from statsmodels.tsa.stattools import adfuller\n",
    "\n",
    "def ad_test (dataset):\n",
    " dftest= adfuller(dataset, autolag ='AIC')\n",
    " print(\"ADF : \",dftest[0])\n",
    " print(\"P-Value : \",dftest[1])\n",
    " print(\"Number of lags : \",dftest[2])\n",
    " print (\"Number of observations : \",dftest[3])\n",
    " print(\"Critical Values : \")\n",
    " for key, val in dftest[4].items():\n",
    "    print(\"\\t\",key, \":\",val)"
   ]
  },
  {
   "cell_type": "code",
   "execution_count": 864,
   "metadata": {},
   "outputs": [
    {
     "name": "stdout",
     "output_type": "stream",
     "text": [
      "ADF :  -7.1472224779582945\n",
      "P-Value :  3.209350766810398e-10\n",
      "Number of lags :  5\n",
      "Number of observations :  572\n",
      "Critical Values : \n",
      "\t 1% : -3.441834071558759\n",
      "\t 5% : -2.8666061267054626\n",
      "\t 10% : -2.569468095872659\n"
     ]
    }
   ],
   "source": [
    "#Display the P-Value, which gives the probability\n",
    "ad_test(prod1['Order_Demand'])"
   ]
  },
  {
   "cell_type": "markdown",
   "metadata": {},
   "source": [
    "Noted that the P-value id very small implying the data set id stationary and a prediction can be made using models. Compared two prediction models- Regression and ARIMA model to make future predictions of data."
   ]
  },
  {
   "cell_type": "code",
   "execution_count": 865,
   "metadata": {},
   "outputs": [
    {
     "data": {
      "text/plain": [
       "0      50000\n",
       "1      50000\n",
       "2      30000\n",
       "3      10000\n",
       "4      30000\n",
       "       ...  \n",
       "444    25000\n",
       "445    25000\n",
       "446    25000\n",
       "447    25000\n",
       "448     9000\n",
       "Name: Order_Demand, Length: 449, dtype: int64"
      ]
     },
     "execution_count": 865,
     "metadata": {},
     "output_type": "execute_result"
    }
   ],
   "source": [
    "#Predicting using a Regression model\n",
    "df = pd.read_csv ('Historical Product Demand.csv')\n",
    "option=['Product_0082']\n",
    "prod_new= data[data['Product_Code'].isin(option)]\n",
    "prod_new.head()\n",
    "O= prod2['Order_Demand']\n",
    "D=O.reset_index(drop=True)\n",
    "D"
   ]
  },
  {
   "cell_type": "code",
   "execution_count": 866,
   "metadata": {},
   "outputs": [
    {
     "data": {
      "image/png": "[encoded data removed]",
      "text/plain": [
       "<Figure size 432x288 with 1 Axes>"
      ]
     },
     "metadata": {
      "needs_background": "light"
     },
     "output_type": "display_data"
    },
    {
     "data": {
      "image/png": "[encoded data removed]",
      "text/plain": [
       "<Figure size 432x288 with 1 Axes>"
      ]
     },
     "metadata": {
      "needs_background": "light"
     },
     "output_type": "display_data"
    }
   ],
   "source": [
    "# Check the past values; x=time lags, y=correlation\n",
    "from statsmodels.graphics.tsaplots import plot_pacf, plot_acf\n",
    "pacf= plot_pacf(prod_new['Order_Demand'],lags=30)\n",
    "acf= plot_acf(prod_new['Order_Demand'],lags=30)"
   ]
  },
  {
   "cell_type": "code",
   "execution_count": 867,
   "metadata": {},
   "outputs": [],
   "source": [
    "#Consider corelation upto 5\n",
    "#Split dataset into train and test\n",
    "train= D[:len(O)-5]\n",
    "test=D[len(O)-5:]"
   ]
  },
  {
   "cell_type": "code",
   "execution_count": 868,
   "metadata": {},
   "outputs": [],
   "source": [
    "from statsmodels.tsa.ar_model import AutoReg\n",
    "model = AutoReg(train, lags=10).fit()"
   ]
  },
  {
   "cell_type": "code",
   "execution_count": 869,
   "metadata": {},
   "outputs": [
    {
     "data": {
      "text/html": [
       "<table class=\"simpletable\">\n",
       "<caption>AutoReg Model Results</caption>\n",
       "<tr>\n",
       "  <th>Dep. Variable:</th>   <td>Order_Demand</td>   <th>  No. Observations:  </th>    <td>444</td>   \n",
       "</tr>\n",
       "<tr>\n",
       "  <th>Model:</th>            <td>AutoReg(10)</td>   <th>  Log Likelihood     </th> <td>-5141.581</td>\n",
       "</tr>\n",
       "<tr>\n",
       "  <th>Method:</th>         <td>Conditional MLE</td> <th>  S.D. of innovations</th> <td>33793.421</td>\n",
       "</tr>\n",
       "<tr>\n",
       "  <th>Date:</th>          <td>Mon, 12 Oct 2020</td> <th>  AIC                </th>  <td>20.911</td>  \n",
       "</tr>\n",
       "<tr>\n",
       "  <th>Time:</th>              <td>19:22:50</td>     <th>  BIC                </th>  <td>21.024</td>  \n",
       "</tr>\n",
       "<tr>\n",
       "  <th>Sample:</th>               <td>10</td>        <th>  HQIC               </th>  <td>20.956</td>  \n",
       "</tr>\n",
       "<tr>\n",
       "  <th></th>                      <td>444</td>       <th>                     </th>     <td> </td>    \n",
       "</tr>\n",
       "</table>\n",
       "<table class=\"simpletable\">\n",
       "<tr>\n",
       "          <td></td>            <th>coef</th>     <th>std err</th>      <th>z</th>      <th>P>|z|</th>  <th>[0.025</th>    <th>0.975]</th>  \n",
       "</tr>\n",
       "<tr>\n",
       "  <th>intercept</th>        <td> 9443.1174</td> <td> 2475.447</td> <td>    3.815</td> <td> 0.000</td> <td> 4591.331</td> <td> 1.43e+04</td>\n",
       "</tr>\n",
       "<tr>\n",
       "  <th>Order_Demand.L1</th>  <td>    0.0812</td> <td>    0.048</td> <td>    1.691</td> <td> 0.091</td> <td>   -0.013</td> <td>    0.175</td>\n",
       "</tr>\n",
       "<tr>\n",
       "  <th>Order_Demand.L2</th>  <td>    0.0725</td> <td>    0.048</td> <td>    1.506</td> <td> 0.132</td> <td>   -0.022</td> <td>    0.167</td>\n",
       "</tr>\n",
       "<tr>\n",
       "  <th>Order_Demand.L3</th>  <td>    0.2420</td> <td>    0.049</td> <td>    4.981</td> <td> 0.000</td> <td>    0.147</td> <td>    0.337</td>\n",
       "</tr>\n",
       "<tr>\n",
       "  <th>Order_Demand.L4</th>  <td>    0.0051</td> <td>    0.050</td> <td>    0.102</td> <td> 0.919</td> <td>   -0.093</td> <td>    0.103</td>\n",
       "</tr>\n",
       "<tr>\n",
       "  <th>Order_Demand.L5</th>  <td>   -0.0096</td> <td>    0.050</td> <td>   -0.194</td> <td> 0.846</td> <td>   -0.107</td> <td>    0.088</td>\n",
       "</tr>\n",
       "<tr>\n",
       "  <th>Order_Demand.L6</th>  <td>    0.0633</td> <td>    0.050</td> <td>    1.271</td> <td> 0.204</td> <td>   -0.034</td> <td>    0.161</td>\n",
       "</tr>\n",
       "<tr>\n",
       "  <th>Order_Demand.L7</th>  <td>    0.0482</td> <td>    0.050</td> <td>    0.965</td> <td> 0.334</td> <td>   -0.050</td> <td>    0.146</td>\n",
       "</tr>\n",
       "<tr>\n",
       "  <th>Order_Demand.L8</th>  <td>    0.0223</td> <td>    0.049</td> <td>    0.459</td> <td> 0.646</td> <td>   -0.073</td> <td>    0.117</td>\n",
       "</tr>\n",
       "<tr>\n",
       "  <th>Order_Demand.L9</th>  <td>   -0.0301</td> <td>    0.048</td> <td>   -0.621</td> <td> 0.535</td> <td>   -0.125</td> <td>    0.065</td>\n",
       "</tr>\n",
       "<tr>\n",
       "  <th>Order_Demand.L10</th> <td>    0.0168</td> <td>    0.048</td> <td>    0.349</td> <td> 0.727</td> <td>   -0.078</td> <td>    0.111</td>\n",
       "</tr>\n",
       "</table>\n",
       "<table class=\"simpletable\">\n",
       "<caption>Roots</caption>\n",
       "<tr>\n",
       "    <td></td>    <th>            Real</th>  <th>         Imaginary</th> <th>         Modulus</th>  <th>        Frequency</th>\n",
       "</tr>\n",
       "<tr>\n",
       "  <th>AR.1</th>  <td>          -1.4191</td> <td>          -0.0000j</td> <td>           1.4191</td> <td>          -0.5000</td>\n",
       "</tr>\n",
       "<tr>\n",
       "  <th>AR.2</th>  <td>          -1.0348</td> <td>          -0.9356j</td> <td>           1.3951</td> <td>          -0.3830</td>\n",
       "</tr>\n",
       "<tr>\n",
       "  <th>AR.3</th>  <td>          -1.0348</td> <td>          +0.9356j</td> <td>           1.3951</td> <td>           0.3830</td>\n",
       "</tr>\n",
       "<tr>\n",
       "  <th>AR.4</th>  <td>          -0.3954</td> <td>          -1.2642j</td> <td>           1.3246</td> <td>          -0.2982</td>\n",
       "</tr>\n",
       "<tr>\n",
       "  <th>AR.5</th>  <td>          -0.3954</td> <td>          +1.2642j</td> <td>           1.3246</td> <td>           0.2982</td>\n",
       "</tr>\n",
       "<tr>\n",
       "  <th>AR.6</th>  <td>           1.1963</td> <td>          -0.0000j</td> <td>           1.1963</td> <td>          -0.0000</td>\n",
       "</tr>\n",
       "<tr>\n",
       "  <th>AR.7</th>  <td>           0.8827</td> <td>          -1.3225j</td> <td>           1.5900</td> <td>          -0.1563</td>\n",
       "</tr>\n",
       "<tr>\n",
       "  <th>AR.8</th>  <td>           0.8827</td> <td>          +1.3225j</td> <td>           1.5900</td> <td>           0.1563</td>\n",
       "</tr>\n",
       "<tr>\n",
       "  <th>AR.9</th>  <td>           1.5525</td> <td>          -1.2823j</td> <td>           2.0136</td> <td>          -0.1099</td>\n",
       "</tr>\n",
       "<tr>\n",
       "  <th>AR.10</th> <td>           1.5525</td> <td>          +1.2823j</td> <td>           2.0136</td> <td>           0.1099</td>\n",
       "</tr>\n",
       "</table>"
      ],
      "text/plain": [
       "<class 'statsmodels.iolib.summary.Summary'>\n",
       "\"\"\"\n",
       "                            AutoReg Model Results                             \n",
       "==============================================================================\n",
       "Dep. Variable:           Order_Demand   No. Observations:                  444\n",
       "Model:                    AutoReg(10)   Log Likelihood               -5141.581\n",
       "Method:               Conditional MLE   S.D. of innovations          33793.421\n",
       "Date:                Mon, 12 Oct 2020   AIC                             20.911\n",
       "Time:                        19:22:50   BIC                             21.024\n",
       "Sample:                            10   HQIC                            20.956\n",
       "                                  444                                         \n",
       "====================================================================================\n",
       "                       coef    std err          z      P>|z|      [0.025      0.975]\n",
       "------------------------------------------------------------------------------------\n",
       "intercept         9443.1174   2475.447      3.815      0.000    4591.331    1.43e+04\n",
       "Order_Demand.L1      0.0812      0.048      1.691      0.091      -0.013       0.175\n",
       "Order_Demand.L2      0.0725      0.048      1.506      0.132      -0.022       0.167\n",
       "Order_Demand.L3      0.2420      0.049      4.981      0.000       0.147       0.337\n",
       "Order_Demand.L4      0.0051      0.050      0.102      0.919      -0.093       0.103\n",
       "Order_Demand.L5     -0.0096      0.050     -0.194      0.846      -0.107       0.088\n",
       "Order_Demand.L6      0.0633      0.050      1.271      0.204      -0.034       0.161\n",
       "Order_Demand.L7      0.0482      0.050      0.965      0.334      -0.050       0.146\n",
       "Order_Demand.L8      0.0223      0.049      0.459      0.646      -0.073       0.117\n",
       "Order_Demand.L9     -0.0301      0.048     -0.621      0.535      -0.125       0.065\n",
       "Order_Demand.L10     0.0168      0.048      0.349      0.727      -0.078       0.111\n",
       "                                    Roots                                     \n",
       "==============================================================================\n",
       "                   Real          Imaginary           Modulus         Frequency\n",
       "------------------------------------------------------------------------------\n",
       "AR.1            -1.4191           -0.0000j            1.4191           -0.5000\n",
       "AR.2            -1.0348           -0.9356j            1.3951           -0.3830\n",
       "AR.3            -1.0348           +0.9356j            1.3951            0.3830\n",
       "AR.4            -0.3954           -1.2642j            1.3246           -0.2982\n",
       "AR.5            -0.3954           +1.2642j            1.3246            0.2982\n",
       "AR.6             1.1963           -0.0000j            1.1963           -0.0000\n",
       "AR.7             0.8827           -1.3225j            1.5900           -0.1563\n",
       "AR.8             0.8827           +1.3225j            1.5900            0.1563\n",
       "AR.9             1.5525           -1.2823j            2.0136           -0.1099\n",
       "AR.10            1.5525           +1.2823j            2.0136            0.1099\n",
       "------------------------------------------------------------------------------\n",
       "\"\"\""
      ]
     },
     "execution_count": 869,
     "metadata": {},
     "output_type": "execute_result"
    }
   ],
   "source": [
    "#p-value is small\n",
    "model.summary()"
   ]
  },
  {
   "cell_type": "code",
   "execution_count": 870,
   "metadata": {},
   "outputs": [],
   "source": [
    "#Make preditions on dataset\n",
    "pred= model.predict(start=len(train),end=len(O)-1,dynamic=False)"
   ]
  },
  {
   "cell_type": "code",
   "execution_count": 871,
   "metadata": {},
   "outputs": [
    {
     "data": {
      "text/plain": [
       "[<matplotlib.lines.Line2D at 0x1a58c329cd0>]"
      ]
     },
     "execution_count": 871,
     "metadata": {},
     "output_type": "execute_result"
    },
    {
     "data": {
      "image/png": "[encoded data removed]",
      "text/plain": [
       "<Figure size 432x288 with 1 Axes>"
      ]
     },
     "metadata": {
      "needs_background": "light"
     },
     "output_type": "display_data"
    }
   ],
   "source": [
    "#plot the predictions\n",
    "plt.plot(pred)\n",
    "plt.plot(test)"
   ]
  },
  {
   "cell_type": "code",
   "execution_count": 872,
   "metadata": {},
   "outputs": [],
   "source": [
    "#Find the order for ARIMA model\n",
    "from pmdarima import auto_arima\n",
    "#ignore warnings\n",
    "import warnings\n",
    "warnings.filterwarnings(\"ignore\")"
   ]
  },
  {
   "cell_type": "code",
   "execution_count": 873,
   "metadata": {},
   "outputs": [
    {
     "name": "stdout",
     "output_type": "stream",
     "text": [
      "Performing stepwise search to minimize aic\n",
      " ARIMA(2,0,2)(0,0,0)[0] intercept   : AIC=13166.198, Time=1.10 sec\n",
      " ARIMA(0,0,0)(0,0,0)[0] intercept   : AIC=13215.585, Time=0.07 sec\n",
      " ARIMA(1,0,0)(0,0,0)[0] intercept   : AIC=13189.939, Time=0.14 sec\n",
      " ARIMA(0,0,1)(0,0,0)[0] intercept   : AIC=13196.990, Time=0.12 sec\n",
      " ARIMA(0,0,0)(0,0,0)[0]             : AIC=13504.129, Time=0.02 sec\n",
      " ARIMA(1,0,2)(0,0,0)[0] intercept   : AIC=13173.645, Time=0.24 sec\n",
      " ARIMA(2,0,1)(0,0,0)[0] intercept   : AIC=13173.712, Time=0.37 sec\n",
      " ARIMA(3,0,2)(0,0,0)[0] intercept   : AIC=13167.288, Time=2.04 sec\n",
      " ARIMA(2,0,3)(0,0,0)[0] intercept   : AIC=13167.090, Time=1.83 sec\n",
      " ARIMA(1,0,1)(0,0,0)[0] intercept   : AIC=13180.902, Time=0.20 sec\n",
      " ARIMA(1,0,3)(0,0,0)[0] intercept   : AIC=13167.792, Time=0.42 sec\n",
      " ARIMA(3,0,1)(0,0,0)[0] intercept   : AIC=13166.223, Time=0.53 sec\n",
      " ARIMA(3,0,3)(0,0,0)[0] intercept   : AIC=inf, Time=4.25 sec\n",
      " ARIMA(2,0,2)(0,0,0)[0]             : AIC=13185.661, Time=0.55 sec\n",
      "\n",
      "Best model:  ARIMA(2,0,2)(0,0,0)[0] intercept\n",
      "Total fit time: 11.906 seconds\n"
     ]
    },
    {
     "data": {
      "text/html": [
       "<table class=\"simpletable\">\n",
       "<caption>SARIMAX Results</caption>\n",
       "<tr>\n",
       "  <th>Dep. Variable:</th>           <td>y</td>        <th>  No. Observations:  </th>    <td>578</td>   \n",
       "</tr>\n",
       "<tr>\n",
       "  <th>Model:</th>           <td>SARIMAX(2, 0, 2)</td> <th>  Log Likelihood     </th> <td>-6577.099</td>\n",
       "</tr>\n",
       "<tr>\n",
       "  <th>Date:</th>            <td>Mon, 12 Oct 2020</td> <th>  AIC                </th> <td>13166.198</td>\n",
       "</tr>\n",
       "<tr>\n",
       "  <th>Time:</th>                <td>19:23:02</td>     <th>  BIC                </th> <td>13192.355</td>\n",
       "</tr>\n",
       "<tr>\n",
       "  <th>Sample:</th>                  <td>0</td>        <th>  HQIC               </th> <td>13176.398</td>\n",
       "</tr>\n",
       "<tr>\n",
       "  <th></th>                      <td> - 578</td>      <th>                     </th>     <td> </td>    \n",
       "</tr>\n",
       "<tr>\n",
       "  <th>Covariance Type:</th>        <td>opg</td>       <th>                     </th>     <td> </td>    \n",
       "</tr>\n",
       "</table>\n",
       "<table class=\"simpletable\">\n",
       "<tr>\n",
       "      <td></td>         <th>coef</th>     <th>std err</th>      <th>z</th>      <th>P>|z|</th>  <th>[0.025</th>    <th>0.975]</th>  \n",
       "</tr>\n",
       "<tr>\n",
       "  <th>intercept</th> <td> 9224.9168</td> <td> 2841.895</td> <td>    3.246</td> <td> 0.001</td> <td> 3654.905</td> <td> 1.48e+04</td>\n",
       "</tr>\n",
       "<tr>\n",
       "  <th>ar.L1</th>     <td>   -0.2145</td> <td>    0.092</td> <td>   -2.320</td> <td> 0.020</td> <td>   -0.396</td> <td>   -0.033</td>\n",
       "</tr>\n",
       "<tr>\n",
       "  <th>ar.L2</th>     <td>    0.7157</td> <td>    0.084</td> <td>    8.512</td> <td> 0.000</td> <td>    0.551</td> <td>    0.881</td>\n",
       "</tr>\n",
       "<tr>\n",
       "  <th>ma.L1</th>     <td>    0.3913</td> <td>    0.110</td> <td>    3.557</td> <td> 0.000</td> <td>    0.176</td> <td>    0.607</td>\n",
       "</tr>\n",
       "<tr>\n",
       "  <th>ma.L2</th>     <td>   -0.5102</td> <td>    0.099</td> <td>   -5.131</td> <td> 0.000</td> <td>   -0.705</td> <td>   -0.315</td>\n",
       "</tr>\n",
       "<tr>\n",
       "  <th>sigma2</th>    <td> 4.551e+08</td> <td>    0.320</td> <td> 1.42e+09</td> <td> 0.000</td> <td> 4.55e+08</td> <td> 4.55e+08</td>\n",
       "</tr>\n",
       "</table>\n",
       "<table class=\"simpletable\">\n",
       "<tr>\n",
       "  <th>Ljung-Box (Q):</th>          <td>74.92</td> <th>  Jarque-Bera (JB):  </th> <td>5186.78</td>\n",
       "</tr>\n",
       "<tr>\n",
       "  <th>Prob(Q):</th>                <td>0.00</td>  <th>  Prob(JB):          </th>  <td>0.00</td>  \n",
       "</tr>\n",
       "<tr>\n",
       "  <th>Heteroskedasticity (H):</th> <td>0.91</td>  <th>  Skew:              </th>  <td>2.90</td>  \n",
       "</tr>\n",
       "<tr>\n",
       "  <th>Prob(H) (two-sided):</th>    <td>0.53</td>  <th>  Kurtosis:          </th>  <td>16.48</td> \n",
       "</tr>\n",
       "</table><br/><br/>Warnings:<br/>[1] Covariance matrix calculated using the outer product of gradients (complex-step).<br/>[2] Covariance matrix is singular or near-singular, with condition number 4.41e+23. Standard errors may be unstable."
      ],
      "text/plain": [
       "<class 'statsmodels.iolib.summary.Summary'>\n",
       "\"\"\"\n",
       "                               SARIMAX Results                                \n",
       "==============================================================================\n",
       "Dep. Variable:                      y   No. Observations:                  578\n",
       "Model:               SARIMAX(2, 0, 2)   Log Likelihood               -6577.099\n",
       "Date:                Mon, 12 Oct 2020   AIC                          13166.198\n",
       "Time:                        19:23:02   BIC                          13192.355\n",
       "Sample:                             0   HQIC                         13176.398\n",
       "                                - 578                                         \n",
       "Covariance Type:                  opg                                         \n",
       "==============================================================================\n",
       "                 coef    std err          z      P>|z|      [0.025      0.975]\n",
       "------------------------------------------------------------------------------\n",
       "intercept   9224.9168   2841.895      3.246      0.001    3654.905    1.48e+04\n",
       "ar.L1         -0.2145      0.092     -2.320      0.020      -0.396      -0.033\n",
       "ar.L2          0.7157      0.084      8.512      0.000       0.551       0.881\n",
       "ma.L1          0.3913      0.110      3.557      0.000       0.176       0.607\n",
       "ma.L2         -0.5102      0.099     -5.131      0.000      -0.705      -0.315\n",
       "sigma2      4.551e+08      0.320   1.42e+09      0.000    4.55e+08    4.55e+08\n",
       "===================================================================================\n",
       "Ljung-Box (Q):                       74.92   Jarque-Bera (JB):              5186.78\n",
       "Prob(Q):                              0.00   Prob(JB):                         0.00\n",
       "Heteroskedasticity (H):               0.91   Skew:                             2.90\n",
       "Prob(H) (two-sided):                  0.53   Kurtosis:                        16.48\n",
       "===================================================================================\n",
       "\n",
       "Warnings:\n",
       "[1] Covariance matrix calculated using the outer product of gradients (complex-step).\n",
       "[2] Covariance matrix is singular or near-singular, with condition number 4.41e+23. Standard errors may be unstable.\n",
       "\"\"\""
      ]
     },
     "execution_count": 873,
     "metadata": {},
     "output_type": "execute_result"
    }
   ],
   "source": [
    "#Calling the auto_arima function\n",
    "fit = auto_arima(prod1['Order_Demand'],trace=True,suppress_warnings=True)\n",
    "fit.summary()"
   ]
  },
  {
   "cell_type": "markdown",
   "metadata": {},
   "source": [
    "Intercepted the model using auto ARIMA and a score. Predicted the best model with minimum AIC score as (2,0,2)"
   ]
  },
  {
   "cell_type": "code",
   "execution_count": 874,
   "metadata": {},
   "outputs": [],
   "source": [
    "#Prediction using ARIMA model\n",
    "from statsmodels.tsa.arima_model import ARIMA"
   ]
  },
  {
   "cell_type": "markdown",
   "metadata": {},
   "source": [
    "Divide data into Training and Test for testing\n",
    "\n",
    "Last 25 values reserved for testing and rest of the data used for training"
   ]
  },
  {
   "cell_type": "code",
   "execution_count": 885,
   "metadata": {},
   "outputs": [
    {
     "name": "stdout",
     "output_type": "stream",
     "text": [
      "(578, 4)\n",
      "(553, 4) (25, 4)\n"
     ]
    }
   ],
   "source": [
    "print(prod1.shape)\n",
    "train = prod1.iloc[:-25]\n",
    "test = prod1.iloc [-25:]\n",
    "print(train.shape,test.shape)"
   ]
  },
  {
   "cell_type": "markdown",
   "metadata": {},
   "source": [
    "Train the model using Best model predicted earlier (2,0,2)"
   ]
  },
  {
   "cell_type": "code",
   "execution_count": 876,
   "metadata": {},
   "outputs": [
    {
     "data": {
      "text/html": [
       "<table class=\"simpletable\">\n",
       "<caption>ARMA Model Results</caption>\n",
       "<tr>\n",
       "  <th>Dep. Variable:</th>   <td>Order_Demand</td>   <th>  No. Observations:  </th>    <td>553</td>   \n",
       "</tr>\n",
       "<tr>\n",
       "  <th>Model:</th>            <td>ARMA(2, 2)</td>    <th>  Log Likelihood     </th> <td>-6298.220</td>\n",
       "</tr>\n",
       "<tr>\n",
       "  <th>Method:</th>             <td>css-mle</td>     <th>  S.D. of innovations</th> <td>21377.263</td>\n",
       "</tr>\n",
       "<tr>\n",
       "  <th>Date:</th>          <td>Mon, 12 Oct 2020</td> <th>  AIC                </th> <td>12608.441</td>\n",
       "</tr>\n",
       "<tr>\n",
       "  <th>Time:</th>              <td>19:23:03</td>     <th>  BIC                </th> <td>12634.333</td>\n",
       "</tr>\n",
       "<tr>\n",
       "  <th>Sample:</th>                <td>0</td>        <th>  HQIC               </th> <td>12618.557</td>\n",
       "</tr>\n",
       "<tr>\n",
       "  <th></th>                       <td> </td>        <th>                     </th>     <td> </td>    \n",
       "</tr>\n",
       "</table>\n",
       "<table class=\"simpletable\">\n",
       "<tr>\n",
       "           <td></td>             <th>coef</th>     <th>std err</th>      <th>z</th>      <th>P>|z|</th>  <th>[0.025</th>    <th>0.975]</th>  \n",
       "</tr>\n",
       "<tr>\n",
       "  <th>const</th>              <td> 1.813e+04</td> <td> 1810.095</td> <td>   10.016</td> <td> 0.000</td> <td> 1.46e+04</td> <td> 2.17e+04</td>\n",
       "</tr>\n",
       "<tr>\n",
       "  <th>ar.L1.Order_Demand</th> <td>    1.0305</td> <td>    0.406</td> <td>    2.537</td> <td> 0.011</td> <td>    0.234</td> <td>    1.827</td>\n",
       "</tr>\n",
       "<tr>\n",
       "  <th>ar.L2.Order_Demand</th> <td>   -0.1948</td> <td>    0.341</td> <td>   -0.572</td> <td> 0.567</td> <td>   -0.862</td> <td>    0.473</td>\n",
       "</tr>\n",
       "<tr>\n",
       "  <th>ma.L1.Order_Demand</th> <td>   -0.8921</td> <td>    0.400</td> <td>   -2.230</td> <td> 0.026</td> <td>   -1.676</td> <td>   -0.108</td>\n",
       "</tr>\n",
       "<tr>\n",
       "  <th>ma.L2.Order_Demand</th> <td>    0.2205</td> <td>    0.269</td> <td>    0.820</td> <td> 0.412</td> <td>   -0.307</td> <td>    0.748</td>\n",
       "</tr>\n",
       "</table>\n",
       "<table class=\"simpletable\">\n",
       "<caption>Roots</caption>\n",
       "<tr>\n",
       "    <td></td>   <th>            Real</th>  <th>         Imaginary</th> <th>         Modulus</th>  <th>        Frequency</th>\n",
       "</tr>\n",
       "<tr>\n",
       "  <th>AR.1</th> <td>           1.2800</td> <td>          +0.0000j</td> <td>           1.2800</td> <td>           0.0000</td>\n",
       "</tr>\n",
       "<tr>\n",
       "  <th>AR.2</th> <td>           4.0115</td> <td>          +0.0000j</td> <td>           4.0115</td> <td>           0.0000</td>\n",
       "</tr>\n",
       "<tr>\n",
       "  <th>MA.1</th> <td>           2.0227</td> <td>          -0.6661j</td> <td>           2.1295</td> <td>          -0.0506</td>\n",
       "</tr>\n",
       "<tr>\n",
       "  <th>MA.2</th> <td>           2.0227</td> <td>          +0.6661j</td> <td>           2.1295</td> <td>           0.0506</td>\n",
       "</tr>\n",
       "</table>"
      ],
      "text/plain": [
       "<class 'statsmodels.iolib.summary.Summary'>\n",
       "\"\"\"\n",
       "                              ARMA Model Results                              \n",
       "==============================================================================\n",
       "Dep. Variable:           Order_Demand   No. Observations:                  553\n",
       "Model:                     ARMA(2, 2)   Log Likelihood               -6298.220\n",
       "Method:                       css-mle   S.D. of innovations          21377.263\n",
       "Date:                Mon, 12 Oct 2020   AIC                          12608.441\n",
       "Time:                        19:23:03   BIC                          12634.333\n",
       "Sample:                             0   HQIC                         12618.557\n",
       "                                                                              \n",
       "======================================================================================\n",
       "                         coef    std err          z      P>|z|      [0.025      0.975]\n",
       "--------------------------------------------------------------------------------------\n",
       "const               1.813e+04   1810.095     10.016      0.000    1.46e+04    2.17e+04\n",
       "ar.L1.Order_Demand     1.0305      0.406      2.537      0.011       0.234       1.827\n",
       "ar.L2.Order_Demand    -0.1948      0.341     -0.572      0.567      -0.862       0.473\n",
       "ma.L1.Order_Demand    -0.8921      0.400     -2.230      0.026      -1.676      -0.108\n",
       "ma.L2.Order_Demand     0.2205      0.269      0.820      0.412      -0.307       0.748\n",
       "                                    Roots                                    \n",
       "=============================================================================\n",
       "                  Real          Imaginary           Modulus         Frequency\n",
       "-----------------------------------------------------------------------------\n",
       "AR.1            1.2800           +0.0000j            1.2800            0.0000\n",
       "AR.2            4.0115           +0.0000j            4.0115            0.0000\n",
       "MA.1            2.0227           -0.6661j            2.1295           -0.0506\n",
       "MA.2            2.0227           +0.6661j            2.1295            0.0506\n",
       "-----------------------------------------------------------------------------\n",
       "\"\"\""
      ]
     },
     "execution_count": 876,
     "metadata": {},
     "output_type": "execute_result"
    }
   ],
   "source": [
    "model = ARIMA(train['Order_Demand'], order=(2,0,2))\n",
    "model= model.fit()\n",
    "model.summary()"
   ]
  },
  {
   "cell_type": "markdown",
   "metadata": {},
   "source": [
    "Specifying the start and end points on the data set to make predictions. Starting from the test data upto the train data"
   ]
  },
  {
   "cell_type": "code",
   "execution_count": 877,
   "metadata": {},
   "outputs": [
    {
     "name": "stdout",
     "output_type": "stream",
     "text": [
      "553    14609.932693\n",
      "554    14913.871523\n",
      "555    15501.245617\n",
      "556    16047.360965\n",
      "557    16495.758674\n",
      "558    16851.490426\n",
      "559    17130.757542\n",
      "560    17349.272180\n",
      "561    17520.070998\n",
      "562    17653.528733\n",
      "563    17757.797985\n",
      "564    17839.259777\n",
      "565    17902.902236\n",
      "566    17952.623073\n",
      "567    17991.467563\n",
      "568    18021.814878\n",
      "569    18045.523759\n",
      "570    18064.046355\n",
      "571    18078.517158\n",
      "572    18089.822491\n",
      "573    18098.654799\n",
      "574    18105.555051\n",
      "575    18110.945882\n",
      "576    18115.157475\n",
      "577    18118.447789\n",
      "dtype: float64\n"
     ]
    }
   ],
   "source": [
    "s=len(train)\n",
    "e = len(train)+len(test)-1\n",
    "pred= model.predict(start=s, end=e,typ='levels')\n",
    "print (pred)"
   ]
  },
  {
   "cell_type": "markdown",
   "metadata": {},
   "source": [
    "Noted that the index values is not a date value. Setting index value as date from the dataframe"
   ]
  },
  {
   "cell_type": "code",
   "execution_count": 878,
   "metadata": {},
   "outputs": [
    {
     "name": "stdout",
     "output_type": "stream",
     "text": [
      "Date\n",
      "2016-08-09    14609.932693\n",
      "2016-09-13    14913.871523\n",
      "2016-10-13    15501.245617\n",
      "2016-11-11    16047.360965\n",
      "2016-01-22    16495.758674\n",
      "2016-05-13    16851.490426\n",
      "2016-05-31    17130.757542\n",
      "2016-06-17    17349.272180\n",
      "2016-09-13    17520.070998\n",
      "2016-11-15    17653.528733\n",
      "2016-12-27    17757.797985\n",
      "2016-08-18    17839.259777\n",
      "2016-05-05    17902.902236\n",
      "2016-11-30    17952.623073\n",
      "2016-12-28    17991.467563\n",
      "2016-04-18    18021.814878\n",
      "2016-04-29    18045.523759\n",
      "2016-06-30    18064.046355\n",
      "2016-09-30    18078.517158\n",
      "2016-11-29    18089.822491\n",
      "2016-02-18    18098.654799\n",
      "2016-03-07    18105.555051\n",
      "2016-10-27    18110.945882\n",
      "2016-09-09    18115.157475\n",
      "2016-11-30    18118.447789\n",
      "dtype: float64\n"
     ]
    }
   ],
   "source": [
    "pred.index=prod1.index[s:e+1]\n",
    "print(pred)"
   ]
  },
  {
   "cell_type": "code",
   "execution_count": 879,
   "metadata": {},
   "outputs": [
    {
     "data": {
      "text/plain": [
       "<matplotlib.axes._subplots.AxesSubplot at 0x1a59669e940>"
      ]
     },
     "execution_count": 879,
     "metadata": {},
     "output_type": "execute_result"
    },
    {
     "data": {
      "image/png": "[encoded data removed]",
      "text/plain": [
       "<Figure size 432x288 with 1 Axes>"
      ]
     },
     "metadata": {
      "needs_background": "light"
     },
     "output_type": "display_data"
    }
   ],
   "source": [
    "#Plotting the prediction versus the actual model\n",
    "pred.plot(legend=True)\n",
    "test['Order_Demand'].plot(legend =True)"
   ]
  },
  {
   "cell_type": "markdown",
   "metadata": {},
   "source": [
    "Predicted Order values for future 30 days using the ARIMA model."
   ]
  },
  {
   "cell_type": "code",
   "execution_count": 886,
   "metadata": {},
   "outputs": [
    {
     "data": {
      "text/html": [
       "<div>\n",
       "<style scoped>\n",
       "    .dataframe tbody tr th:only-of-type {\n",
       "        vertical-align: middle;\n",
       "    }\n",
       "\n",
       "    .dataframe tbody tr th {\n",
       "        vertical-align: top;\n",
       "    }\n",
       "\n",
       "    .dataframe thead th {\n",
       "        text-align: right;\n",
       "    }\n",
       "</style>\n",
       "<table border=\"1\" class=\"dataframe\">\n",
       "  <thead>\n",
       "    <tr style=\"text-align: right;\">\n",
       "      <th></th>\n",
       "      <th>Product_Code</th>\n",
       "      <th>Warehouse</th>\n",
       "      <th>Product_Category</th>\n",
       "      <th>Order_Demand</th>\n",
       "    </tr>\n",
       "    <tr>\n",
       "      <th>Date</th>\n",
       "      <th></th>\n",
       "      <th></th>\n",
       "      <th></th>\n",
       "      <th></th>\n",
       "    </tr>\n",
       "  </thead>\n",
       "  <tbody>\n",
       "    <tr>\n",
       "      <th>2016-02-18</th>\n",
       "      <td>Product_0082</td>\n",
       "      <td>Whse_J</td>\n",
       "      <td>Category_019</td>\n",
       "      <td>1000</td>\n",
       "    </tr>\n",
       "    <tr>\n",
       "      <th>2016-03-07</th>\n",
       "      <td>Product_0082</td>\n",
       "      <td>Whse_J</td>\n",
       "      <td>Category_019</td>\n",
       "      <td>3000</td>\n",
       "    </tr>\n",
       "    <tr>\n",
       "      <th>2016-10-27</th>\n",
       "      <td>Product_0082</td>\n",
       "      <td>Whse_J</td>\n",
       "      <td>Category_019</td>\n",
       "      <td>1000</td>\n",
       "    </tr>\n",
       "    <tr>\n",
       "      <th>2016-09-09</th>\n",
       "      <td>Product_0082</td>\n",
       "      <td>Whse_J</td>\n",
       "      <td>Category_019</td>\n",
       "      <td>1000</td>\n",
       "    </tr>\n",
       "    <tr>\n",
       "      <th>2016-11-30</th>\n",
       "      <td>Product_0082</td>\n",
       "      <td>Whse_J</td>\n",
       "      <td>Category_019</td>\n",
       "      <td>2000</td>\n",
       "    </tr>\n",
       "  </tbody>\n",
       "</table>\n",
       "</div>"
      ],
      "text/plain": [
       "            Product_Code Warehouse Product_Category  Order_Demand\n",
       "Date                                                             \n",
       "2016-02-18  Product_0082    Whse_J     Category_019          1000\n",
       "2016-03-07  Product_0082    Whse_J     Category_019          3000\n",
       "2016-10-27  Product_0082    Whse_J     Category_019          1000\n",
       "2016-09-09  Product_0082    Whse_J     Category_019          1000\n",
       "2016-11-30  Product_0082    Whse_J     Category_019          2000"
      ]
     },
     "execution_count": 886,
     "metadata": {},
     "output_type": "execute_result"
    }
   ],
   "source": [
    "#Predict future values\n",
    "model2 = ARIMA(prod1['Order_Demand'], order=(2,0,2))\n",
    "model2= model2.fit()\n",
    "prod1.tail()"
   ]
  },
  {
   "cell_type": "code",
   "execution_count": 887,
   "metadata": {},
   "outputs": [
    {
     "name": "stdout",
     "output_type": "stream",
     "text": [
      "DatetimeIndex(['2016-11-30', '2016-12-01', '2016-12-02', '2016-12-03',\n",
      "               '2016-12-04', '2016-12-05', '2016-12-06', '2016-12-07',\n",
      "               '2016-12-08', '2016-12-09', '2016-12-10', '2016-12-11',\n",
      "               '2016-12-12', '2016-12-13', '2016-12-14', '2016-12-15',\n",
      "               '2016-12-16', '2016-12-17', '2016-12-18', '2016-12-19',\n",
      "               '2016-12-20', '2016-12-21', '2016-12-22', '2016-12-23',\n",
      "               '2016-12-24', '2016-12-25', '2016-12-26', '2016-12-27',\n",
      "               '2016-12-28', '2016-12-29', '2016-12-30'],\n",
      "              dtype='datetime64[ns]', freq='D')\n"
     ]
    }
   ],
   "source": [
    "#Predicting for next 30 days\n",
    "index_future = pd.date_range(start='2016-11-30',end= '2016-12-30')\n",
    "print(index_future)"
   ]
  },
  {
   "cell_type": "code",
   "execution_count": 888,
   "metadata": {},
   "outputs": [
    {
     "name": "stdout",
     "output_type": "stream",
     "text": [
      "578    10289.057682\n",
      "579    11217.019422\n",
      "580    12533.655231\n",
      "581    13723.155364\n",
      "582    14689.154013\n",
      "583    15446.330086\n",
      "584    16032.184833\n",
      "585    16483.267814\n",
      "586    16829.932282\n",
      "587    17096.157681\n",
      "588    17300.552188\n",
      "589    17457.459272\n",
      "590    17577.906828\n",
      "591    17670.365264\n",
      "592    17741.338145\n",
      "593    17795.818171\n",
      "594    17837.637954\n",
      "595    17869.739511\n",
      "596    17894.381193\n",
      "597    17913.296552\n",
      "598    17927.816292\n",
      "599    17938.961881\n",
      "600    17947.517418\n",
      "601    17954.084788\n",
      "602    17959.126009\n",
      "603    17962.995733\n",
      "604    17965.966196\n",
      "605    17968.246372\n",
      "606    17969.996673\n",
      "607    17971.340232\n",
      "608    17972.371570\n",
      "Name: Predictions, dtype: float64\n"
     ]
    }
   ],
   "source": [
    "pred= model2.predict(start=len(prod1),end=len(prod1)+30,typ='levels').rename('Predictions')\n",
    "print(pred)"
   ]
  },
  {
   "cell_type": "code",
   "execution_count": 889,
   "metadata": {},
   "outputs": [
    {
     "name": "stdout",
     "output_type": "stream",
     "text": [
      "2016-11-30    10289.057682\n",
      "2016-12-01    11217.019422\n",
      "2016-12-02    12533.655231\n",
      "2016-12-03    13723.155364\n",
      "2016-12-04    14689.154013\n",
      "2016-12-05    15446.330086\n",
      "2016-12-06    16032.184833\n",
      "2016-12-07    16483.267814\n",
      "2016-12-08    16829.932282\n",
      "2016-12-09    17096.157681\n",
      "2016-12-10    17300.552188\n",
      "2016-12-11    17457.459272\n",
      "2016-12-12    17577.906828\n",
      "2016-12-13    17670.365264\n",
      "2016-12-14    17741.338145\n",
      "2016-12-15    17795.818171\n",
      "2016-12-16    17837.637954\n",
      "2016-12-17    17869.739511\n",
      "2016-12-18    17894.381193\n",
      "2016-12-19    17913.296552\n",
      "2016-12-20    17927.816292\n",
      "2016-12-21    17938.961881\n",
      "2016-12-22    17947.517418\n",
      "2016-12-23    17954.084788\n",
      "2016-12-24    17959.126009\n",
      "2016-12-25    17962.995733\n",
      "2016-12-26    17965.966196\n",
      "2016-12-27    17968.246372\n",
      "2016-12-28    17969.996673\n",
      "2016-12-29    17971.340232\n",
      "2016-12-30    17972.371570\n",
      "Freq: D, Name: Predictions, dtype: float64\n"
     ]
    }
   ],
   "source": [
    "#Set date as index value for predictions\n",
    "pred.index= index_future\n",
    "print(pred)"
   ]
  },
  {
   "cell_type": "code",
   "execution_count": 890,
   "metadata": {},
   "outputs": [
    {
     "data": {
      "text/plain": [
       "<matplotlib.axes._subplots.AxesSubplot at 0x1a58c303070>"
      ]
     },
     "execution_count": 890,
     "metadata": {},
     "output_type": "execute_result"
    },
    {
     "data": {
      "image/png": "[encoded data removed]",
      "text/plain": [
       "<Figure size 432x288 with 1 Axes>"
      ]
     },
     "metadata": {
      "needs_background": "light"
     },
     "output_type": "display_data"
    }
   ],
   "source": [
    "#plot future predictions\n",
    "pred.plot(legend=True)"
   ]
  }
 ],
 "metadata": {
  "kernelspec": {
   "display_name": "Python 3",
   "language": "python",
   "name": "python3"
  },
  "language_info": {
   "codemirror_mode": {
    "name": "ipython",
    "version": 3
   },
   "file_extension": ".py",
   "mimetype": "text/x-python",
   "name": "python",
   "nbconvert_exporter": "python",
   "pygments_lexer": "ipython3",
   "version": "3.8.3"
  }
 },
 "nbformat": 4,
 "nbformat_minor": 4
}
